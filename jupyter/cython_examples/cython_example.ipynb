{
 "cells": [
  {
   "cell_type": "code",
   "execution_count": 1,
   "metadata": {
    "collapsed": true
   },
   "outputs": [],
   "source": [
    "import numpy as np"
   ]
  },
  {
   "cell_type": "code",
   "execution_count": 2,
   "metadata": {
    "collapsed": true
   },
   "outputs": [],
   "source": [
    "%load_ext Cython"
   ]
  },
  {
   "cell_type": "raw",
   "metadata": {},
   "source": [
    "Task: X contains indexes into Z. Create a new matrix Y that has the corresponding values from Z."
   ]
  },
  {
   "cell_type": "code",
   "execution_count": 3,
   "metadata": {
    "collapsed": true
   },
   "outputs": [],
   "source": [
    "# Simple example.\n",
    "X = np.asarray([[0,1,1,0]])\n",
    "Z = np.asarray([3,2])\n",
    "\n",
    "# Expected output.\n",
    "Y_expected = np.asarray([[3,2,2,3]])"
   ]
  },
  {
   "cell_type": "code",
   "execution_count": 4,
   "metadata": {
    "collapsed": false
   },
   "outputs": [],
   "source": [
    "def python_loop(X,H,W,Z):\n",
    "    Y = np.zeros(shape=X.shape, dtype=np.int)\n",
    "    for h in range(H):\n",
    "        for w in range(W):\n",
    "            val = X[h,w]\n",
    "            Y[h,w] = Z[val]\n",
    "    return Y"
   ]
  },
  {
   "cell_type": "code",
   "execution_count": 5,
   "metadata": {
    "collapsed": false
   },
   "outputs": [],
   "source": [
    "Y = python_loop(X,H=X.shape[0],W=X.shape[1],Z=Z)"
   ]
  },
  {
   "cell_type": "code",
   "execution_count": 6,
   "metadata": {
    "collapsed": false
   },
   "outputs": [
    {
     "data": {
      "text/plain": [
       "array([[3, 2, 2, 3]])"
      ]
     },
     "execution_count": 6,
     "metadata": {},
     "output_type": "execute_result"
    }
   ],
   "source": [
    "Y"
   ]
  },
  {
   "cell_type": "code",
   "execution_count": 7,
   "metadata": {
    "collapsed": false
   },
   "outputs": [],
   "source": [
    "assert np.alltrue(Y_expected == Y)"
   ]
  },
  {
   "cell_type": "code",
   "execution_count": 8,
   "metadata": {
    "collapsed": false
   },
   "outputs": [],
   "source": [
    "# Bigger example.\n",
    "H = 5000\n",
    "W = 5000\n",
    "X = np.random.randint(6, size=(H,W))\n",
    "Z = np.asarray([10,11,12,13,14,15])"
   ]
  },
  {
   "cell_type": "code",
   "execution_count": 9,
   "metadata": {
    "collapsed": false
   },
   "outputs": [
    {
     "data": {
      "text/plain": [
       "array([[0, 1, 0, ..., 3, 5, 5],\n",
       "       [2, 1, 5, ..., 4, 0, 2],\n",
       "       [4, 3, 5, ..., 2, 4, 4],\n",
       "       ..., \n",
       "       [4, 1, 5, ..., 4, 5, 4],\n",
       "       [5, 0, 1, ..., 5, 4, 4],\n",
       "       [2, 0, 2, ..., 3, 0, 0]])"
      ]
     },
     "execution_count": 9,
     "metadata": {},
     "output_type": "execute_result"
    }
   ],
   "source": [
    "X"
   ]
  },
  {
   "cell_type": "code",
   "execution_count": 10,
   "metadata": {
    "collapsed": false
   },
   "outputs": [
    {
     "data": {
      "text/plain": [
       "array([10, 11, 12, 13, 14, 15])"
      ]
     },
     "execution_count": 10,
     "metadata": {},
     "output_type": "execute_result"
    }
   ],
   "source": [
    "Z"
   ]
  },
  {
   "cell_type": "code",
   "execution_count": 11,
   "metadata": {
    "collapsed": false
   },
   "outputs": [
    {
     "name": "stdout",
     "output_type": "stream",
     "text": [
      "CPU times: user 6.97 s, sys: 4 ms, total: 6.98 s\n",
      "Wall time: 6.98 s\n"
     ]
    }
   ],
   "source": [
    "%%time\n",
    "Y_loop = python_loop(X,H,W,Z)"
   ]
  },
  {
   "cell_type": "code",
   "execution_count": 12,
   "metadata": {
    "collapsed": true
   },
   "outputs": [],
   "source": [
    "def vectorize_loop(X,Z):\n",
    "    \"\"\"A better? vectorized loop\"\"\"\n",
    "    Y = np.zeros(shape=X.shape, dtype=np.int)\n",
    "    for x, z in enumerate(Z):\n",
    "        Y[X==x] = z\n",
    "        \n",
    "    return Y"
   ]
  },
  {
   "cell_type": "code",
   "execution_count": 13,
   "metadata": {
    "collapsed": false
   },
   "outputs": [
    {
     "name": "stdout",
     "output_type": "stream",
     "text": [
      "CPU times: user 524 ms, sys: 16 ms, total: 540 ms\n",
      "Wall time: 539 ms\n"
     ]
    }
   ],
   "source": [
    "%%time\n",
    "Y_vec = vectorize_loop(X,Z)"
   ]
  },
  {
   "cell_type": "code",
   "execution_count": 14,
   "metadata": {
    "collapsed": false
   },
   "outputs": [],
   "source": [
    "assert np.alltrue(Y_vec == Y_vec)"
   ]
  },
  {
   "cell_type": "code",
   "execution_count": 15,
   "metadata": {
    "collapsed": false
   },
   "outputs": [],
   "source": [
    "%%cython\n",
    "def cython_slow_loop(Y,X,H,W,Z):\n",
    "    \"\"\"Cython without any datatypes declared. Note the vars are pass-by-ref.\"\"\"\n",
    "    for h in range(H):\n",
    "        for w in range(W):\n",
    "            val = X[h,w]\n",
    "            Y[h,w] = Z[val]\n",
    "    return Y"
   ]
  },
  {
   "cell_type": "code",
   "execution_count": 16,
   "metadata": {
    "collapsed": false
   },
   "outputs": [
    {
     "name": "stdout",
     "output_type": "stream",
     "text": [
      "CPU times: user 5.63 s, sys: 36 ms, total: 5.66 s\n",
      "Wall time: 5.65 s\n"
     ]
    }
   ],
   "source": [
    "%%time\n",
    "Yc_slow = np.zeros(shape=X.shape, dtype=np.int)\n",
    "cython_slow_loop(Yc_slow,X,H,W,Z)"
   ]
  },
  {
   "cell_type": "code",
   "execution_count": 17,
   "metadata": {
    "collapsed": false
   },
   "outputs": [],
   "source": [
    "# Make sure values are equal.\n",
    "assert np.alltrue(Yc_slow == Y_loop)"
   ]
  },
  {
   "cell_type": "code",
   "execution_count": 18,
   "metadata": {
    "collapsed": false
   },
   "outputs": [],
   "source": [
    "%%cython\n",
    "def cython_loop(long [:,:] Y, long [:,:] X, long H, long W, long [:] Z):\n",
    "    \"\"\"Real fast cython loop with variable types declared.\"\"\"\n",
    "    cdef long h\n",
    "    cdef long w\n",
    "    cdef long val\n",
    "    for h in range(H):\n",
    "        for w in range(W):\n",
    "            val = X[h,w]\n",
    "            Y[h,w] = Z[val]\n",
    "    return Y"
   ]
  },
  {
   "cell_type": "code",
   "execution_count": 19,
   "metadata": {
    "collapsed": false
   },
   "outputs": [
    {
     "name": "stdout",
     "output_type": "stream",
     "text": [
      "CPU times: user 48 ms, sys: 0 ns, total: 48 ms\n",
      "Wall time: 48.6 ms\n"
     ]
    }
   ],
   "source": [
    "%%time\n",
    "Yc = np.zeros(shape=X.shape, dtype=np.int)\n",
    "cython_loop(Yc,X,H,W,Z)"
   ]
  },
  {
   "cell_type": "code",
   "execution_count": 20,
   "metadata": {
    "collapsed": true
   },
   "outputs": [],
   "source": [
    "assert np.alltrue(Yc == Y_loop)"
   ]
  }
 ],
 "metadata": {
  "kernelspec": {
   "display_name": "Python 3",
   "language": "python",
   "name": "python3"
  },
  "language_info": {
   "codemirror_mode": {
    "name": "ipython",
    "version": 3
   },
   "file_extension": ".py",
   "mimetype": "text/x-python",
   "name": "python",
   "nbconvert_exporter": "python",
   "pygments_lexer": "ipython3",
   "version": "3.5.2"
  }
 },
 "nbformat": 4,
 "nbformat_minor": 1
}
